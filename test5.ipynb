{
 "cells": [
  {
   "cell_type": "code",
   "execution_count": 15,
   "metadata": {},
   "outputs": [
    {
     "data": {
      "text/plain": [
       "'\\ncd ~\\nsudo git clone https://github.com/dx2102/masque-linux\\ncd masque-linux\\nsudo chmod a+rwx -R .\\n\\ncode --install-extension ms-python.python\\ncode --install-extension ms-toolsai.jupyter\\ncode --install-extension github.copilot\\n\\nsudo apt update\\nsudo apt install -y python3-pip libssl-dev\\npip install aioquic ipykernel\\n'"
      ]
     },
     "execution_count": 15,
     "metadata": {},
     "output_type": "execute_result"
    }
   ],
   "source": [
    "\n",
    "# This is a file for testing performance of masque\n",
    "# Run this file on three different machines\n",
    "# change the variables: role, ip_dict\n",
    "# Assign each machine a role \n",
    "#   and fill in ip address in ip_dict\n",
    "\n",
    "\n",
    "\n",
    "# You can run these linux commands for setting up the environment\n",
    "'''\n",
    "cd ~\n",
    "sudo git clone https://github.com/dx2102/masque-linux\n",
    "cd masque-linux\n",
    "sudo chmod a+rwx -R .\n",
    "\n",
    "code --install-extension ms-python.python\n",
    "code --install-extension ms-toolsai.jupyter\n",
    "code --install-extension github.copilot\n",
    "\n",
    "sudo apt update\n",
    "sudo apt install -y python3-pip libssl-dev\n",
    "pip install aioquic ipykernel\n",
    "'''\n",
    "\n"
   ]
  },
  {
   "cell_type": "code",
   "execution_count": 16,
   "metadata": {},
   "outputs": [],
   "source": [
    "# Imports, Utilities\n",
    "import time\n",
    "import os\n",
    "import socket\n",
    "import aioquic\n",
    "\n",
    "def detect_ip():\n",
    "    s = socket.socket(socket.AF_INET, socket.SOCK_DGRAM)\n",
    "    s.connect((\"google.com\", 80))\n",
    "    ip = s.getsockname()[0]\n",
    "    s.close()\n",
    "    return ip\n"
   ]
  },
  {
   "cell_type": "code",
   "execution_count": 17,
   "metadata": {},
   "outputs": [
    {
     "name": "stdout",
     "output_type": "stream",
     "text": [
      "IP of this machine:  128.110.217.143\n"
     ]
    }
   ],
   "source": [
    "local_ip = detect_ip()\n",
    "print(\"IP of this machine: \", detect_ip())"
   ]
  },
  {
   "cell_type": "code",
   "execution_count": 18,
   "metadata": {},
   "outputs": [
    {
     "ename": "AssertionError",
     "evalue": "",
     "output_type": "error",
     "traceback": [
      "\u001b[0;31m---------------------------------------------------------------------------\u001b[0m",
      "\u001b[0;31mAssertionError\u001b[0m                            Traceback (most recent call last)",
      "\u001b[1;32m/users/Deming/masque-linux/test5.ipynb 单元格 4\u001b[0m line \u001b[0;36m1\n\u001b[1;32m      <a href='vscode-notebook-cell://ssh-remote%2Bms1028.utah.cloudlab.us/users/Deming/masque-linux/test5.ipynb#W3sdnNjb2RlLXJlbW90ZQ%3D%3D?line=3'>4</a>\u001b[0m \u001b[39massert\u001b[39;00m role \u001b[39min\u001b[39;00m [\u001b[39m'\u001b[39m\u001b[39mclient\u001b[39m\u001b[39m'\u001b[39m, \u001b[39m'\u001b[39m\u001b[39mproxy\u001b[39m\u001b[39m'\u001b[39m, \u001b[39m'\u001b[39m\u001b[39mecho\u001b[39m\u001b[39m'\u001b[39m]\n\u001b[1;32m      <a href='vscode-notebook-cell://ssh-remote%2Bms1028.utah.cloudlab.us/users/Deming/masque-linux/test5.ipynb#W3sdnNjb2RlLXJlbW90ZQ%3D%3D?line=5'>6</a>\u001b[0m ip_dict \u001b[39m=\u001b[39m {\n\u001b[1;32m      <a href='vscode-notebook-cell://ssh-remote%2Bms1028.utah.cloudlab.us/users/Deming/masque-linux/test5.ipynb#W3sdnNjb2RlLXJlbW90ZQ%3D%3D?line=6'>7</a>\u001b[0m     \u001b[39m'\u001b[39m\u001b[39mclient\u001b[39m\u001b[39m'\u001b[39m: \u001b[39m'\u001b[39m\u001b[39m'\u001b[39m,\n\u001b[1;32m      <a href='vscode-notebook-cell://ssh-remote%2Bms1028.utah.cloudlab.us/users/Deming/masque-linux/test5.ipynb#W3sdnNjb2RlLXJlbW90ZQ%3D%3D?line=7'>8</a>\u001b[0m     \u001b[39m'\u001b[39m\u001b[39mproxy\u001b[39m\u001b[39m'\u001b[39m: \u001b[39m'\u001b[39m\u001b[39m'\u001b[39m,\n\u001b[1;32m      <a href='vscode-notebook-cell://ssh-remote%2Bms1028.utah.cloudlab.us/users/Deming/masque-linux/test5.ipynb#W3sdnNjb2RlLXJlbW90ZQ%3D%3D?line=8'>9</a>\u001b[0m     \u001b[39m'\u001b[39m\u001b[39mecho\u001b[39m\u001b[39m'\u001b[39m: \u001b[39m'\u001b[39m\u001b[39m'\u001b[39m\n\u001b[1;32m     <a href='vscode-notebook-cell://ssh-remote%2Bms1028.utah.cloudlab.us/users/Deming/masque-linux/test5.ipynb#W3sdnNjb2RlLXJlbW90ZQ%3D%3D?line=9'>10</a>\u001b[0m }\n\u001b[0;32m---> <a href='vscode-notebook-cell://ssh-remote%2Bms1028.utah.cloudlab.us/users/Deming/masque-linux/test5.ipynb#W3sdnNjb2RlLXJlbW90ZQ%3D%3D?line=10'>11</a>\u001b[0m \u001b[39massert\u001b[39;00m ip_dict[role] \u001b[39m==\u001b[39m local_ip\n",
      "\u001b[0;31mAssertionError\u001b[0m: "
     ]
    }
   ],
   "source": [
    "# configs:\n",
    "\n",
    "role = 'client'\n",
    "assert role in ['client', 'proxy', 'echo']\n",
    "\n",
    "ip_dict = {\n",
    "    'client': '',\n",
    "    'proxy': '',\n",
    "    'echo': ''\n",
    "}\n",
    "assert ip_dict[role] == local_ip"
   ]
  },
  {
   "cell_type": "code",
   "execution_count": null,
   "metadata": {},
   "outputs": [],
   "source": []
  }
 ],
 "metadata": {
  "kernelspec": {
   "display_name": "Python 3",
   "language": "python",
   "name": "python3"
  },
  "language_info": {
   "codemirror_mode": {
    "name": "ipython",
    "version": 3
   },
   "file_extension": ".py",
   "mimetype": "text/x-python",
   "name": "python",
   "nbconvert_exporter": "python",
   "pygments_lexer": "ipython3",
   "version": "3.10.12"
  }
 },
 "nbformat": 4,
 "nbformat_minor": 2
}
