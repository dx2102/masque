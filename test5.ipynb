{
 "cells": [
  {
   "cell_type": "code",
   "execution_count": 1,
   "metadata": {},
   "outputs": [
    {
     "data": {
      "text/plain": [
       "'\\ncd ~\\nrm -rf ~/masque-linux\\nsudo git clone https://github.com/dx2102/masque-linux\\ncd ~/masque-linux\\nsudo chmod a+rwx -R .\\n\\ncode --install-extension ms-python.python\\ncode --install-extension ms-toolsai.jupyter\\ncode --install-extension github.copilot\\n\\nsudo apt update\\nsudo apt install -y python3-pip libssl-dev\\npip install aioquic ipykernel\\n\\nsudo code ~/masque-linux\\n'"
      ]
     },
     "execution_count": 1,
     "metadata": {},
     "output_type": "execute_result"
    }
   ],
   "source": [
    "\n",
    "# This is a file for testing performance of masque\n",
    "# Run this file on three different machines\n",
    "# change the variables: role, ip_dict\n",
    "# Assign each machine a role \n",
    "#   and fill in ip address in ip_dict\n",
    "\n",
    "\n",
    "\n",
    "# You can run these linux commands for setting up the environment\n",
    "'''\n",
    "cd ~\n",
    "rm -rf ~/masque-linux\n",
    "sudo git clone https://github.com/dx2102/masque-linux\n",
    "cd ~/masque-linux\n",
    "sudo chmod a+rwx -R .\n",
    "\n",
    "code --install-extension ms-python.python\n",
    "code --install-extension ms-toolsai.jupyter\n",
    "code --install-extension github.copilot\n",
    "\n",
    "sudo apt update\n",
    "sudo apt install -y python3-pip libssl-dev\n",
    "pip install aioquic ipykernel\n",
    "\n",
    "sudo code ~/masque-linux\n",
    "'''\n",
    "\n"
   ]
  },
  {
   "cell_type": "code",
   "execution_count": 2,
   "metadata": {},
   "outputs": [
    {
     "name": "stdout",
     "output_type": "stream",
     "text": [
      "No process found listening on port 4433"
     ]
    },
    {
     "name": "stdout",
     "output_type": "stream",
     "text": [
      "\n",
      "No process found listening on port 12345\n"
     ]
    }
   ],
   "source": [
    "# Imports, Utilities\n",
    "import time\n",
    "import os\n",
    "import socket\n",
    "import aioquic\n",
    "import subprocess\n",
    "\n",
    "def detect_ip():\n",
    "    s = socket.socket(socket.AF_INET, socket.SOCK_DGRAM)\n",
    "    s.connect((\"google.com\", 80))\n",
    "    ip = s.getsockname()[0]\n",
    "    s.close()\n",
    "    return ip\n",
    "\n",
    "\n",
    "def kill_process_on_port(port, wait=0.1):\n",
    "    try:\n",
    "        # 使用 lsof 命令查找监听指定端口的进程并获取其PID\n",
    "        cmd = f\"lsof -i :{port} -t\"\n",
    "        output = subprocess.check_output(cmd, shell=True)\n",
    "        pids = output.decode('utf-8').split('\\n')\n",
    "        \n",
    "        for pid in pids:\n",
    "            if pid:\n",
    "                pid = int(pid)\n",
    "                # 终止进程\n",
    "                subprocess.call(['kill', '-9', str(pid)])\n",
    "                print(f\"Terminated process with PID {pid}\")\n",
    "    except subprocess.CalledProcessError:\n",
    "        print(f\"No process found listening on port {port}\")\n",
    "    finally:\n",
    "        time.sleep(wait)\n",
    "\n",
    "for port in [4433, 12345]:\n",
    "    kill_process_on_port(port)"
   ]
  },
  {
   "cell_type": "code",
   "execution_count": 3,
   "metadata": {},
   "outputs": [
    {
     "name": "stdout",
     "output_type": "stream",
     "text": [
      "IP of this machine: \n",
      "10.209.87.65\n"
     ]
    }
   ],
   "source": [
    "from utils import local_ip\n",
    "print(\"IP of this machine: \")\n",
    "print(local_ip)"
   ]
  },
  {
   "cell_type": "code",
   "execution_count": 4,
   "metadata": {},
   "outputs": [],
   "source": [
    "# configs:\n",
    "role = 'client'\n",
    "assert role in ['client', 'proxy', 'echo']\n",
    "\n",
    "ip_dict = {\n",
    "    'client': local_ip,\n",
    "    'proxy': 'ms0403.utah.cloudlab.us',\n",
    "    'echo': 'ms0429.utah.cloudlab.us',\n",
    "}\n",
    "assert ip_dict[role] == local_ip"
   ]
  },
  {
   "cell_type": "code",
   "execution_count": 5,
   "metadata": {},
   "outputs": [
    {
     "name": "stdout",
     "output_type": "stream",
     "text": [
      "masque client started. Now trying handshake\n",
      "ProtocolNegotiated(alpn_protocol='h3-29')\n",
      "HandshakeCompleted(alpn_protocol='h3-29', early_data_accepted=False, session_resumed=False)\n",
      "ConnectionIdIssued(connection_id=b'\\xabF\\xfd\\x9eoo\\x8b%')\n",
      "Connected\n",
      "sending connect-udp request\n",
      "drop GREASE noise on stream 3\n",
      "drop GREASE noise on stream 7\n",
      "drop GREASE noise on stream 11\n",
      "drop GREASE noise on stream 15\n",
      "StreamDataReceived(data=b'\\xf7\\x8d\\x82\\x88\\x9a\\xd2A\\xcc\\x00\\xd4\\xe5d\\xbe*L\\x88\\x84\\x12GREASE is the word\\x01\\x03\\x00\\x00\\xd9', end_stream=False, stream_id=12)\n"
     ]
    },
    {
     "data": {
      "image/png": "[encoded data removed]",
      "text/plain": [
       "<Figure size 640x480 with 1 Axes>"
      ]
     },
     "metadata": {
      "image/png": {
       "height": 413,
       "width": 568
      }
     },
     "output_type": "display_data"
    },
    {
     "name": "stdout",
     "output_type": "stream",
     "text": [
      "ConnectionTerminated(error_code=<QuicErrorCode.NO_ERROR: 0>, frame_type=None, reason_phrase='')\n"
     ]
    },
    {
     "ename": "ZeroDivisionError",
     "evalue": "division by zero",
     "output_type": "error",
     "traceback": [
      "\u001b[1;31m---------------------------------------------------------------------------\u001b[0m",
      "\u001b[1;31mZeroDivisionError\u001b[0m                         Traceback (most recent call last)",
      "\u001b[1;32mc:\\Users\\XUDEMING\\OneDrive\\桌面\\quic学习\\masque-linux\\test5.ipynb 单元格 5\u001b[0m line \u001b[0;36m1\n\u001b[0;32m    <a href='vscode-notebook-cell:/c%3A/Users/XUDEMING/OneDrive/%E6%A1%8C%E9%9D%A2/quic%E5%AD%A6%E4%B9%A0/masque-linux/test5.ipynb#W4sZmlsZQ%3D%3D?line=99'>100</a>\u001b[0m \u001b[39masync\u001b[39;00m \u001b[39mwith\u001b[39;00m connect(\n\u001b[0;32m    <a href='vscode-notebook-cell:/c%3A/Users/XUDEMING/OneDrive/%E6%A1%8C%E9%9D%A2/quic%E5%AD%A6%E4%B9%A0/masque-linux/test5.ipynb#W4sZmlsZQ%3D%3D?line=100'>101</a>\u001b[0m     ip_dict[\u001b[39m\"\u001b[39m\u001b[39mproxy\u001b[39m\u001b[39m\"\u001b[39m], \u001b[39m4433\u001b[39m, \n\u001b[0;32m    <a href='vscode-notebook-cell:/c%3A/Users/XUDEMING/OneDrive/%E6%A1%8C%E9%9D%A2/quic%E5%AD%A6%E4%B9%A0/masque-linux/test5.ipynb#W4sZmlsZQ%3D%3D?line=101'>102</a>\u001b[0m     create_protocol\u001b[39m=\u001b[39mMasqueClient,\n\u001b[1;32m   (...)\u001b[0m\n\u001b[0;32m    <a href='vscode-notebook-cell:/c%3A/Users/XUDEMING/OneDrive/%E6%A1%8C%E9%9D%A2/quic%E5%AD%A6%E4%B9%A0/masque-linux/test5.ipynb#W4sZmlsZQ%3D%3D?line=111'>112</a>\u001b[0m     ),\n\u001b[0;32m    <a href='vscode-notebook-cell:/c%3A/Users/XUDEMING/OneDrive/%E6%A1%8C%E9%9D%A2/quic%E5%AD%A6%E4%B9%A0/masque-linux/test5.ipynb#W4sZmlsZQ%3D%3D?line=112'>113</a>\u001b[0m ) \u001b[39mas\u001b[39;00m client:\n\u001b[0;32m    <a href='vscode-notebook-cell:/c%3A/Users/XUDEMING/OneDrive/%E6%A1%8C%E9%9D%A2/quic%E5%AD%A6%E4%B9%A0/masque-linux/test5.ipynb#W4sZmlsZQ%3D%3D?line=113'>114</a>\u001b[0m     \u001b[39mprint\u001b[39m(\u001b[39m\"\u001b[39m\u001b[39mConnected\u001b[39m\u001b[39m\"\u001b[39m)\n\u001b[1;32m--> <a href='vscode-notebook-cell:/c%3A/Users/XUDEMING/OneDrive/%E6%A1%8C%E9%9D%A2/quic%E5%AD%A6%E4%B9%A0/masque-linux/test5.ipynb#W4sZmlsZQ%3D%3D?line=114'>115</a>\u001b[0m     \u001b[39mawait\u001b[39;00m client\u001b[39m.\u001b[39mtest()\n",
      "\u001b[1;32mc:\\Users\\XUDEMING\\OneDrive\\桌面\\quic学习\\masque-linux\\test5.ipynb 单元格 5\u001b[0m line \u001b[0;36m9\n\u001b[0;32m     <a href='vscode-notebook-cell:/c%3A/Users/XUDEMING/OneDrive/%E6%A1%8C%E9%9D%A2/quic%E5%AD%A6%E4%B9%A0/masque-linux/test5.ipynb#W4sZmlsZQ%3D%3D?line=92'>93</a>\u001b[0m     \u001b[39mawait\u001b[39;00m asyncio\u001b[39m.\u001b[39msleep(gap_between_test)\n\u001b[0;32m     <a href='vscode-notebook-cell:/c%3A/Users/XUDEMING/OneDrive/%E6%A1%8C%E9%9D%A2/quic%E5%AD%A6%E4%B9%A0/masque-linux/test5.ipynb#W4sZmlsZQ%3D%3D?line=93'>94</a>\u001b[0m \u001b[39mawait\u001b[39;00m asyncio\u001b[39m.\u001b[39msleep(\u001b[39m0.1\u001b[39m)\n\u001b[1;32m---> <a href='vscode-notebook-cell:/c%3A/Users/XUDEMING/OneDrive/%E6%A1%8C%E9%9D%A2/quic%E5%AD%A6%E4%B9%A0/masque-linux/test5.ipynb#W4sZmlsZQ%3D%3D?line=94'>95</a>\u001b[0m plot_delays()\n\u001b[0;32m     <a href='vscode-notebook-cell:/c%3A/Users/XUDEMING/OneDrive/%E6%A1%8C%E9%9D%A2/quic%E5%AD%A6%E4%B9%A0/masque-linux/test5.ipynb#W4sZmlsZQ%3D%3D?line=95'>96</a>\u001b[0m \u001b[39mawait\u001b[39;00m asyncio\u001b[39m.\u001b[39msleep(\u001b[39m0.1\u001b[39m)\n",
      "\u001b[1;32mc:\\Users\\XUDEMING\\OneDrive\\桌面\\quic学习\\masque-linux\\test5.ipynb 单元格 5\u001b[0m line \u001b[0;36m3\n\u001b[0;32m     <a href='vscode-notebook-cell:/c%3A/Users/XUDEMING/OneDrive/%E6%A1%8C%E9%9D%A2/quic%E5%AD%A6%E4%B9%A0/masque-linux/test5.ipynb#W4sZmlsZQ%3D%3D?line=31'>32</a>\u001b[0m plt\u001b[39m.\u001b[39mplot(delays_lst)\n\u001b[0;32m     <a href='vscode-notebook-cell:/c%3A/Users/XUDEMING/OneDrive/%E6%A1%8C%E9%9D%A2/quic%E5%AD%A6%E4%B9%A0/masque-linux/test5.ipynb#W4sZmlsZQ%3D%3D?line=32'>33</a>\u001b[0m plt\u001b[39m.\u001b[39mshow()\n\u001b[1;32m---> <a href='vscode-notebook-cell:/c%3A/Users/XUDEMING/OneDrive/%E6%A1%8C%E9%9D%A2/quic%E5%AD%A6%E4%B9%A0/masque-linux/test5.ipynb#W4sZmlsZQ%3D%3D?line=33'>34</a>\u001b[0m \u001b[39mprint\u001b[39m(\u001b[39m'\u001b[39m\u001b[39maverage delay:\u001b[39m\u001b[39m'\u001b[39m, \u001b[39msum\u001b[39m(delays_lst) \u001b[39m/\u001b[39m \u001b[39mlen\u001b[39m(delays_lst))\n\u001b[0;32m     <a href='vscode-notebook-cell:/c%3A/Users/XUDEMING/OneDrive/%E6%A1%8C%E9%9D%A2/quic%E5%AD%A6%E4%B9%A0/masque-linux/test5.ipynb#W4sZmlsZQ%3D%3D?line=34'>35</a>\u001b[0m \u001b[39mprint\u001b[39m(\u001b[39m'\u001b[39m\u001b[39mspent\u001b[39m\u001b[39m'\u001b[39m, send_end_time \u001b[39m-\u001b[39m send_start_time, \u001b[39m'\u001b[39m\u001b[39mseconds to send and receive\u001b[39m\u001b[39m'\u001b[39m,\n\u001b[0;32m     <a href='vscode-notebook-cell:/c%3A/Users/XUDEMING/OneDrive/%E6%A1%8C%E9%9D%A2/quic%E5%AD%A6%E4%B9%A0/masque-linux/test5.ipynb#W4sZmlsZQ%3D%3D?line=35'>36</a>\u001b[0m       \u001b[39mlen\u001b[39m(delays_lst), \u001b[39m'\u001b[39m\u001b[39mpackets with gap\u001b[39m\u001b[39m'\u001b[39m, gap_between_test, \u001b[39m'\u001b[39m\u001b[39mseconds\u001b[39m\u001b[39m'\u001b[39m\n\u001b[0;32m     <a href='vscode-notebook-cell:/c%3A/Users/XUDEMING/OneDrive/%E6%A1%8C%E9%9D%A2/quic%E5%AD%A6%E4%B9%A0/masque-linux/test5.ipynb#W4sZmlsZQ%3D%3D?line=36'>37</a>\u001b[0m )\n\u001b[0;32m     <a href='vscode-notebook-cell:/c%3A/Users/XUDEMING/OneDrive/%E6%A1%8C%E9%9D%A2/quic%E5%AD%A6%E4%B9%A0/masque-linux/test5.ipynb#W4sZmlsZQ%3D%3D?line=37'>38</a>\u001b[0m \u001b[39mprint\u001b[39m(\u001b[39m'\u001b[39m\u001b[39mremaining packets to send\u001b[39m\u001b[39m'\u001b[39m, total_test_count \u001b[39m-\u001b[39m \u001b[39mlen\u001b[39m(delays_lst))\n",
      "\u001b[1;31mZeroDivisionError\u001b[0m: division by zero"
     ]
    }
   ],
   "source": [
    "# client:\n",
    "\n",
    "from aioquic.quic.connection import QuicConnection\n",
    "from aioquic.quic.configuration import QuicConfiguration\n",
    "from aioquic.h3.connection import H3Connection\n",
    "from aioquic.quic.events import QuicEvent\n",
    "\n",
    "from aioquic.asyncio.client import connect\n",
    "from aioquic.asyncio.protocol import QuicConnectionProtocol\n",
    "\n",
    "import asyncio\n",
    "import ssl\n",
    "\n",
    "plot_count = 3\n",
    "total_test_count = 100\n",
    "gap_between_test = 1/10000\n",
    "delays = {}\n",
    "\n",
    "send_start_time = None\n",
    "send_end_time = None\n",
    "\n",
    "silent = True\n",
    "def log(*args):\n",
    "    if not silent:\n",
    "        print(*args)\n",
    "\n",
    "def plot_delays():\n",
    "    import matplotlib.pyplot as plt\n",
    "    %config InlineBackend.figure_format = 'retina'\n",
    "    delays_lst = sorted(delays.items()) # sort by send_time\n",
    "    delays_lst = [delay for (send_time, delay) in delays_lst] # get delay\n",
    "    plt.plot(delays_lst)\n",
    "    plt.show()\n",
    "    print('average delay:', sum(delays_lst) / len(delays_lst))\n",
    "    print('spent', send_end_time - send_start_time, 'seconds to send and receive',\n",
    "          len(delays_lst), 'packets with gap', gap_between_test, 'seconds'\n",
    "    )\n",
    "    print('remaining packets to send', total_test_count - len(delays_lst))\n",
    "\n",
    "class MasqueClient(QuicConnectionProtocol):\n",
    "    def __init__(self, *args, **kwargs):\n",
    "        super().__init__(*args, **kwargs)\n",
    "        self.h3 = H3Connection(self._quic)\n",
    "\n",
    "    def quic_event_received(self, event: QuicEvent):\n",
    "        # 由于我们在手动管理self.h3状态机，必须保证它能收到所有的QuicEvent\n",
    "        self.h3.handle_event(event)\n",
    "        # 打印所有event\n",
    "        sort = event.__class__.__name__\n",
    "        if sort == 'StreamDataReceived':\n",
    "            if event.stream_id % 4 == 3:\n",
    "                print('drop GREASE noise on stream', event.stream_id)\n",
    "                return\n",
    "        if sort == 'DatagramFrameReceived':\n",
    "            send_time = float(event.data[2:].decode())\n",
    "            delay = time.time() - send_time\n",
    "            delays[send_time] = delay\n",
    "            log('got echo packet with delay:', delay)\n",
    "            global send_end_time\n",
    "            send_end_time = time.time()\n",
    "            # return\n",
    "        print(event)\n",
    "    \n",
    "    async def test(self):\n",
    "        print('sending connect-udp request')\n",
    "        stream_id = self._quic.get_next_available_stream_id()\n",
    "        stream_id = 4 * 3\n",
    "        self.h3.send_headers(\n",
    "            stream_id=stream_id,\n",
    "            headers=[\n",
    "                (b\":method\", b\"CONNECT\"), # 和一般的GET POST等不同，masque代理的特殊标记\n",
    "                (b\":protocol\", b\"connect-udp\"), # 另一个特殊标记，表示要用udp不是tcp\n",
    "                (b\":path\", f\"/well-known/masque/{ ip_dict['echo'] }/12345\".encode()), # 转发的目的地，实际上之后最后两个斜杠会被读取\n",
    "\n",
    "                (b\":authority\", b\"localhost\"), # 代理服务器本身的地址，实际上并不会被masquerade检查\n",
    "                (b\":scheme\", b\"https\"), # scheme允许在同一个连接中混用http和https，实际上也不会被masquerade检查\n",
    "            ],\n",
    "        )\n",
    "        self.transmit()\n",
    "        # 接下来要等待 200 OK，但是这里直接用sleep代替\n",
    "        await asyncio.sleep(0.5)\n",
    "\n",
    "        global send_start_time\n",
    "        send_start_time = time.time()\n",
    "\n",
    "        for i in range(plot_count):\n",
    "            for j in range(total_test_count // plot_count):\n",
    "                data = str(time.time()).encode()\n",
    "                log('sending data to udp echo server:', data)\n",
    "                flow_id = stream_id // 4\n",
    "                self.h3.send_datagram(flow_id, b'\\x00' + data)\n",
    "                self.transmit()\n",
    "                await asyncio.sleep(gap_between_test)\n",
    "            await asyncio.sleep(0.1)\n",
    "            plot_delays()\n",
    "            await asyncio.sleep(0.1)\n",
    "\n",
    "if role == 'client':\n",
    "    print(\"masque client started. Now trying handshake\")\n",
    "    async with connect(\n",
    "        ip_dict[\"proxy\"], 4433, \n",
    "        create_protocol=MasqueClient,\n",
    "        configuration=QuicConfiguration(\n",
    "            is_client=True,\n",
    "            verify_mode=ssl.CERT_NONE, # 不验证证书，所以可能会受到中间人攻击，但是后续的数据还是会加密的\n",
    "            alpn_protocols=[\"h3-29\"], # 使用h3-29草案的quic\n",
    "            max_datagram_frame_size=1200, # 默认为None，只有设了值才会允许h3 datagram扩展\n",
    "            # error!(\"Connection {} stream {} send failed {:?}\", client.conn.trace_id(), to_send.stream_id, e);\n",
    "            # eprintln!(\"dgram_enabled_by_peer: {:?}\", http3_conn.dgram_enabled_by_peer(&mut client.conn));\n",
    "            # 在masquerade中插入这一行，可以打印出masquerade认为我们是否支持h3 datagram\n",
    "                            \n",
    "        ),\n",
    "    ) as client:\n",
    "        print(\"Connected\")\n",
    "        await client.test()\n"
   ]
  },
  {
   "cell_type": "code",
   "execution_count": null,
   "metadata": {},
   "outputs": [
    {
     "name": "stdout",
     "output_type": "stream",
     "text": [
      "17010029793699.191\n",
      "9999\n"
     ]
    }
   ],
   "source": [
    "print(sum(delays))\n",
    "print(len(delays))"
   ]
  },
  {
   "cell_type": "code",
   "execution_count": null,
   "metadata": {},
   "outputs": [],
   "source": [
    "# proxy:\n",
    "\n",
    "\n",
    "if role == 'proxy':\n",
    "    kill_process_on_port(4433)\n",
    "    os.system('''\n",
    "    cd ~/masque-linux\n",
    "    export RUST_LOG=debug\n",
    "    ./server 0.0.0.0:4433 &\n",
    "    ''')\n"
   ]
  },
  {
   "cell_type": "code",
   "execution_count": null,
   "metadata": {},
   "outputs": [
    {
     "name": "stdout",
     "output_type": "stream",
     "text": [
      "UDP echo server started\n"
     ]
    }
   ],
   "source": [
    "# echo:\n",
    "if True or role == 'echo':\n",
    "    # to test echo server in command line:\n",
    "    # nc -u localhost 12345\n",
    "    sock = socket.socket(socket.AF_INET, socket.SOCK_DGRAM)\n",
    "    sock.bind(('0.0.0.0', 12345))\n",
    "    print('UDP echo server started')\n",
    "    while True:\n",
    "        data, addr = sock.recvfrom(1024)\n",
    "        print('UDP echo server echoing: ', data)\n",
    "        sock.sendto(data, addr)\n",
    "    sock.close()"
   ]
  }
 ],
 "metadata": {
  "kernelspec": {
   "display_name": "Python 3",
   "language": "python",
   "name": "python3"
  },
  "language_info": {
   "codemirror_mode": {
    "name": "ipython",
    "version": 3
   },
   "file_extension": ".py",
   "mimetype": "text/x-python",
   "name": "python",
   "nbconvert_exporter": "python",
   "pygments_lexer": "ipython3",
   "version": "3.10.11"
  }
 },
 "nbformat": 4,
 "nbformat_minor": 2
}
